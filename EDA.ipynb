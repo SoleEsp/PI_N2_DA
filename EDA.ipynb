{
 "cells": [
  {
   "cell_type": "markdown",
   "metadata": {},
   "source": [
    "# Proyecto Individual 02"
   ]
  },
  {
   "cell_type": "markdown",
   "metadata": {},
   "source": [
    "Rol a desarrollar"
   ]
  },
  {
   "cell_type": "markdown",
   "metadata": {},
   "source": [
    "Importamos librerias necesarias"
   ]
  },
  {
   "cell_type": "code",
   "execution_count": 8,
   "metadata": {},
   "outputs": [],
   "source": [
    "import numpy as np\n",
    "import yfinance as yf\n",
    "import pandas as pd\n",
    "import matplotlib.pyplot as plt\n",
    "import seaborn as sb"
   ]
  },
  {
   "cell_type": "markdown",
   "metadata": {},
   "source": [
    "Primero, necesitamos obtener los datos del mercado bursátil del índice SP500. Podemos utilizar la API de Yahoo Finance para obtener los precios históricos de las acciones de las empresas del SP500."
   ]
  },
  {
   "cell_type": "code",
   "execution_count": 32,
   "metadata": {},
   "outputs": [
    {
     "name": "stdout",
     "output_type": "stream",
     "text": [
      "[*********************100%***********************]  1 of 1 completed\n"
     ]
    }
   ],
   "source": [
    "sp500_data = yf.download('^GSPC', start='2000-01-01', end='2023-02-23')\n"
   ]
  },
  {
   "cell_type": "markdown",
   "metadata": {},
   "source": [
    "Guardar los datos en un archivo csv"
   ]
  },
  {
   "cell_type": "code",
   "execution_count": 35,
   "metadata": {},
   "outputs": [],
   "source": [
    "sp500_data.to_csv('SP500.csv')"
   ]
  },
  {
   "cell_type": "markdown",
   "metadata": {},
   "source": [
    "Ahora que tenemos los datos, es importante realizar un análisis exploratorio para entenderlos mejor. El objetivo es entender las características de los datos y encontrar patrones y relaciones entre ellos."
   ]
  },
  {
   "cell_type": "code",
   "execution_count": 66,
   "metadata": {},
   "outputs": [],
   "source": [
    "# Leer el archivo CSV\n",
    "df_sp500 = pd.read_csv('./SP500.csv')"
   ]
  },
  {
   "cell_type": "markdown",
   "metadata": {},
   "source": [
    "En primer lugar, vamos a ver cómo se ven los datos utilizando la función **head()**:"
   ]
  },
  {
   "cell_type": "code",
   "execution_count": 67,
   "metadata": {},
   "outputs": [
    {
     "data": {
      "text/html": [
       "<div>\n",
       "<style scoped>\n",
       "    .dataframe tbody tr th:only-of-type {\n",
       "        vertical-align: middle;\n",
       "    }\n",
       "\n",
       "    .dataframe tbody tr th {\n",
       "        vertical-align: top;\n",
       "    }\n",
       "\n",
       "    .dataframe thead th {\n",
       "        text-align: right;\n",
       "    }\n",
       "</style>\n",
       "<table border=\"1\" class=\"dataframe\">\n",
       "  <thead>\n",
       "    <tr style=\"text-align: right;\">\n",
       "      <th></th>\n",
       "      <th>Date</th>\n",
       "      <th>Open</th>\n",
       "      <th>High</th>\n",
       "      <th>Low</th>\n",
       "      <th>Close</th>\n",
       "      <th>Adj Close</th>\n",
       "      <th>Volume</th>\n",
       "    </tr>\n",
       "  </thead>\n",
       "  <tbody>\n",
       "    <tr>\n",
       "      <th>0</th>\n",
       "      <td>2000-01-03</td>\n",
       "      <td>1469.250000</td>\n",
       "      <td>1478.000000</td>\n",
       "      <td>1438.359985</td>\n",
       "      <td>1455.219971</td>\n",
       "      <td>1455.219971</td>\n",
       "      <td>931800000</td>\n",
       "    </tr>\n",
       "    <tr>\n",
       "      <th>1</th>\n",
       "      <td>2000-01-04</td>\n",
       "      <td>1455.219971</td>\n",
       "      <td>1455.219971</td>\n",
       "      <td>1397.430054</td>\n",
       "      <td>1399.420044</td>\n",
       "      <td>1399.420044</td>\n",
       "      <td>1009000000</td>\n",
       "    </tr>\n",
       "    <tr>\n",
       "      <th>2</th>\n",
       "      <td>2000-01-05</td>\n",
       "      <td>1399.420044</td>\n",
       "      <td>1413.270020</td>\n",
       "      <td>1377.680054</td>\n",
       "      <td>1402.109985</td>\n",
       "      <td>1402.109985</td>\n",
       "      <td>1085500000</td>\n",
       "    </tr>\n",
       "    <tr>\n",
       "      <th>3</th>\n",
       "      <td>2000-01-06</td>\n",
       "      <td>1402.109985</td>\n",
       "      <td>1411.900024</td>\n",
       "      <td>1392.099976</td>\n",
       "      <td>1403.449951</td>\n",
       "      <td>1403.449951</td>\n",
       "      <td>1092300000</td>\n",
       "    </tr>\n",
       "    <tr>\n",
       "      <th>4</th>\n",
       "      <td>2000-01-07</td>\n",
       "      <td>1403.449951</td>\n",
       "      <td>1441.469971</td>\n",
       "      <td>1400.729980</td>\n",
       "      <td>1441.469971</td>\n",
       "      <td>1441.469971</td>\n",
       "      <td>1225200000</td>\n",
       "    </tr>\n",
       "  </tbody>\n",
       "</table>\n",
       "</div>"
      ],
      "text/plain": [
       "         Date         Open         High          Low        Close  \\\n",
       "0  2000-01-03  1469.250000  1478.000000  1438.359985  1455.219971   \n",
       "1  2000-01-04  1455.219971  1455.219971  1397.430054  1399.420044   \n",
       "2  2000-01-05  1399.420044  1413.270020  1377.680054  1402.109985   \n",
       "3  2000-01-06  1402.109985  1411.900024  1392.099976  1403.449951   \n",
       "4  2000-01-07  1403.449951  1441.469971  1400.729980  1441.469971   \n",
       "\n",
       "     Adj Close      Volume  \n",
       "0  1455.219971   931800000  \n",
       "1  1399.420044  1009000000  \n",
       "2  1402.109985  1085500000  \n",
       "3  1403.449951  1092300000  \n",
       "4  1441.469971  1225200000  "
      ]
     },
     "execution_count": 67,
     "metadata": {},
     "output_type": "execute_result"
    }
   ],
   "source": [
    "df_sp500.head()"
   ]
  },
  {
   "cell_type": "markdown",
   "metadata": {},
   "source": [
    "Se muestran los primeros registros del DataFrame. Podemos ver que la información incluye los precios de apertura, cierre, máximo, mínimo, volumen y precios ajustados de las acciones en sus respectivas fechas."
   ]
  },
  {
   "cell_type": "markdown",
   "metadata": {},
   "source": [
    "Para que la visualizacion sea mas facil de leer y comprender se realizaran los siguientes cambios"
   ]
  },
  {
   "cell_type": "code",
   "execution_count": 68,
   "metadata": {},
   "outputs": [],
   "source": [
    "# renombramos las columnas al español\n",
    "df_sp500 = df_sp500.rename(columns={\n",
    "    'Date': 'Fecha',\n",
    "    'Open': 'Apertura',\n",
    "    'High': 'Máximo',\n",
    "    'Low': 'Mínimo',\n",
    "    'Close': 'Cierre',\n",
    "    'Adj Close': 'Cierre Ajustado',\n",
    "    'Volume': 'Volumen'\n",
    "})"
   ]
  },
  {
   "cell_type": "code",
   "execution_count": 69,
   "metadata": {},
   "outputs": [],
   "source": [
    "# redondear a 2 decimales\n",
    "df_sp500 = df_sp500.round(2)"
   ]
  },
  {
   "cell_type": "code",
   "execution_count": 70,
   "metadata": {},
   "outputs": [
    {
     "data": {
      "text/html": [
       "<div>\n",
       "<style scoped>\n",
       "    .dataframe tbody tr th:only-of-type {\n",
       "        vertical-align: middle;\n",
       "    }\n",
       "\n",
       "    .dataframe tbody tr th {\n",
       "        vertical-align: top;\n",
       "    }\n",
       "\n",
       "    .dataframe thead th {\n",
       "        text-align: right;\n",
       "    }\n",
       "</style>\n",
       "<table border=\"1\" class=\"dataframe\">\n",
       "  <thead>\n",
       "    <tr style=\"text-align: right;\">\n",
       "      <th></th>\n",
       "      <th>Fecha</th>\n",
       "      <th>Apertura</th>\n",
       "      <th>Máximo</th>\n",
       "      <th>Mínimo</th>\n",
       "      <th>Cierre</th>\n",
       "      <th>Cierre Ajustado</th>\n",
       "      <th>Volumen</th>\n",
       "    </tr>\n",
       "  </thead>\n",
       "  <tbody>\n",
       "    <tr>\n",
       "      <th>0</th>\n",
       "      <td>2000-01-03</td>\n",
       "      <td>1469.25</td>\n",
       "      <td>1478.00</td>\n",
       "      <td>1438.36</td>\n",
       "      <td>1455.22</td>\n",
       "      <td>1455.22</td>\n",
       "      <td>931800000</td>\n",
       "    </tr>\n",
       "    <tr>\n",
       "      <th>1</th>\n",
       "      <td>2000-01-04</td>\n",
       "      <td>1455.22</td>\n",
       "      <td>1455.22</td>\n",
       "      <td>1397.43</td>\n",
       "      <td>1399.42</td>\n",
       "      <td>1399.42</td>\n",
       "      <td>1009000000</td>\n",
       "    </tr>\n",
       "    <tr>\n",
       "      <th>2</th>\n",
       "      <td>2000-01-05</td>\n",
       "      <td>1399.42</td>\n",
       "      <td>1413.27</td>\n",
       "      <td>1377.68</td>\n",
       "      <td>1402.11</td>\n",
       "      <td>1402.11</td>\n",
       "      <td>1085500000</td>\n",
       "    </tr>\n",
       "    <tr>\n",
       "      <th>3</th>\n",
       "      <td>2000-01-06</td>\n",
       "      <td>1402.11</td>\n",
       "      <td>1411.90</td>\n",
       "      <td>1392.10</td>\n",
       "      <td>1403.45</td>\n",
       "      <td>1403.45</td>\n",
       "      <td>1092300000</td>\n",
       "    </tr>\n",
       "    <tr>\n",
       "      <th>4</th>\n",
       "      <td>2000-01-07</td>\n",
       "      <td>1403.45</td>\n",
       "      <td>1441.47</td>\n",
       "      <td>1400.73</td>\n",
       "      <td>1441.47</td>\n",
       "      <td>1441.47</td>\n",
       "      <td>1225200000</td>\n",
       "    </tr>\n",
       "    <tr>\n",
       "      <th>...</th>\n",
       "      <td>...</td>\n",
       "      <td>...</td>\n",
       "      <td>...</td>\n",
       "      <td>...</td>\n",
       "      <td>...</td>\n",
       "      <td>...</td>\n",
       "      <td>...</td>\n",
       "    </tr>\n",
       "    <tr>\n",
       "      <th>5817</th>\n",
       "      <td>2023-02-15</td>\n",
       "      <td>4119.50</td>\n",
       "      <td>4148.11</td>\n",
       "      <td>4103.98</td>\n",
       "      <td>4147.60</td>\n",
       "      <td>4147.60</td>\n",
       "      <td>4075980000</td>\n",
       "    </tr>\n",
       "    <tr>\n",
       "      <th>5818</th>\n",
       "      <td>2023-02-16</td>\n",
       "      <td>4114.75</td>\n",
       "      <td>4136.54</td>\n",
       "      <td>4089.49</td>\n",
       "      <td>4090.41</td>\n",
       "      <td>4090.41</td>\n",
       "      <td>4143660000</td>\n",
       "    </tr>\n",
       "    <tr>\n",
       "      <th>5819</th>\n",
       "      <td>2023-02-17</td>\n",
       "      <td>4077.39</td>\n",
       "      <td>4081.51</td>\n",
       "      <td>4047.95</td>\n",
       "      <td>4079.09</td>\n",
       "      <td>4079.09</td>\n",
       "      <td>4045480000</td>\n",
       "    </tr>\n",
       "    <tr>\n",
       "      <th>5820</th>\n",
       "      <td>2023-02-21</td>\n",
       "      <td>4052.35</td>\n",
       "      <td>4052.35</td>\n",
       "      <td>3995.19</td>\n",
       "      <td>3997.34</td>\n",
       "      <td>3997.34</td>\n",
       "      <td>4121590000</td>\n",
       "    </tr>\n",
       "    <tr>\n",
       "      <th>5821</th>\n",
       "      <td>2023-02-22</td>\n",
       "      <td>4001.83</td>\n",
       "      <td>4017.37</td>\n",
       "      <td>3976.90</td>\n",
       "      <td>3991.05</td>\n",
       "      <td>3991.05</td>\n",
       "      <td>4079320000</td>\n",
       "    </tr>\n",
       "  </tbody>\n",
       "</table>\n",
       "<p>5822 rows × 7 columns</p>\n",
       "</div>"
      ],
      "text/plain": [
       "           Fecha  Apertura   Máximo   Mínimo   Cierre  Cierre Ajustado  \\\n",
       "0     2000-01-03   1469.25  1478.00  1438.36  1455.22          1455.22   \n",
       "1     2000-01-04   1455.22  1455.22  1397.43  1399.42          1399.42   \n",
       "2     2000-01-05   1399.42  1413.27  1377.68  1402.11          1402.11   \n",
       "3     2000-01-06   1402.11  1411.90  1392.10  1403.45          1403.45   \n",
       "4     2000-01-07   1403.45  1441.47  1400.73  1441.47          1441.47   \n",
       "...          ...       ...      ...      ...      ...              ...   \n",
       "5817  2023-02-15   4119.50  4148.11  4103.98  4147.60          4147.60   \n",
       "5818  2023-02-16   4114.75  4136.54  4089.49  4090.41          4090.41   \n",
       "5819  2023-02-17   4077.39  4081.51  4047.95  4079.09          4079.09   \n",
       "5820  2023-02-21   4052.35  4052.35  3995.19  3997.34          3997.34   \n",
       "5821  2023-02-22   4001.83  4017.37  3976.90  3991.05          3991.05   \n",
       "\n",
       "         Volumen  \n",
       "0      931800000  \n",
       "1     1009000000  \n",
       "2     1085500000  \n",
       "3     1092300000  \n",
       "4     1225200000  \n",
       "...          ...  \n",
       "5817  4075980000  \n",
       "5818  4143660000  \n",
       "5819  4045480000  \n",
       "5820  4121590000  \n",
       "5821  4079320000  \n",
       "\n",
       "[5822 rows x 7 columns]"
      ]
     },
     "execution_count": 70,
     "metadata": {},
     "output_type": "execute_result"
    }
   ],
   "source": [
    "df_sp500"
   ]
  },
  {
   "cell_type": "markdown",
   "metadata": {},
   "source": [
    "Podemos obtener más información del DataFrame utilizando la función **info()**:"
   ]
  },
  {
   "cell_type": "code",
   "execution_count": 71,
   "metadata": {},
   "outputs": [
    {
     "name": "stdout",
     "output_type": "stream",
     "text": [
      "<class 'pandas.core.frame.DataFrame'>\n",
      "RangeIndex: 5822 entries, 0 to 5821\n",
      "Data columns (total 7 columns):\n",
      " #   Column           Non-Null Count  Dtype  \n",
      "---  ------           --------------  -----  \n",
      " 0   Fecha            5822 non-null   object \n",
      " 1   Apertura         5822 non-null   float64\n",
      " 2   Máximo           5822 non-null   float64\n",
      " 3   Mínimo           5822 non-null   float64\n",
      " 4   Cierre           5822 non-null   float64\n",
      " 5   Cierre Ajustado  5822 non-null   float64\n",
      " 6   Volumen          5822 non-null   int64  \n",
      "dtypes: float64(5), int64(1), object(1)\n",
      "memory usage: 318.5+ KB\n"
     ]
    }
   ],
   "source": [
    "df_sp500.info()"
   ]
  },
  {
   "cell_type": "markdown",
   "metadata": {},
   "source": [
    "Esta función nos muestra información sobre el tamaño del DataFrame, el tipo de datos de cada columna, la cantidad de valores no nulos y el uso de memoria."
   ]
  },
  {
   "cell_type": "markdown",
   "metadata": {},
   "source": [
    "Ahora, vamos a calcular algunas estadísticas descriptivas para tener una idea general de los datos:"
   ]
  },
  {
   "cell_type": "code",
   "execution_count": 73,
   "metadata": {},
   "outputs": [
    {
     "data": {
      "text/html": [
       "<div>\n",
       "<style scoped>\n",
       "    .dataframe tbody tr th:only-of-type {\n",
       "        vertical-align: middle;\n",
       "    }\n",
       "\n",
       "    .dataframe tbody tr th {\n",
       "        vertical-align: top;\n",
       "    }\n",
       "\n",
       "    .dataframe thead th {\n",
       "        text-align: right;\n",
       "    }\n",
       "</style>\n",
       "<table border=\"1\" class=\"dataframe\">\n",
       "  <thead>\n",
       "    <tr style=\"text-align: right;\">\n",
       "      <th></th>\n",
       "      <th>Apertura</th>\n",
       "      <th>Máximo</th>\n",
       "      <th>Mínimo</th>\n",
       "      <th>Cierre</th>\n",
       "      <th>Cierre Ajustado</th>\n",
       "      <th>Volumen</th>\n",
       "    </tr>\n",
       "  </thead>\n",
       "  <tbody>\n",
       "    <tr>\n",
       "      <th>count</th>\n",
       "      <td>5822.00</td>\n",
       "      <td>5822.00</td>\n",
       "      <td>5822.00</td>\n",
       "      <td>5822.00</td>\n",
       "      <td>5822.00</td>\n",
       "      <td>5.822000e+03</td>\n",
       "    </tr>\n",
       "    <tr>\n",
       "      <th>mean</th>\n",
       "      <td>1886.49</td>\n",
       "      <td>1897.78</td>\n",
       "      <td>1874.26</td>\n",
       "      <td>1886.71</td>\n",
       "      <td>1886.71</td>\n",
       "      <td>3.302644e+09</td>\n",
       "    </tr>\n",
       "    <tr>\n",
       "      <th>std</th>\n",
       "      <td>976.76</td>\n",
       "      <td>981.89</td>\n",
       "      <td>971.19</td>\n",
       "      <td>976.89</td>\n",
       "      <td>976.89</td>\n",
       "      <td>1.522890e+09</td>\n",
       "    </tr>\n",
       "    <tr>\n",
       "      <th>min</th>\n",
       "      <td>679.28</td>\n",
       "      <td>695.27</td>\n",
       "      <td>666.79</td>\n",
       "      <td>676.53</td>\n",
       "      <td>676.53</td>\n",
       "      <td>3.560700e+08</td>\n",
       "    </tr>\n",
       "    <tr>\n",
       "      <th>25%</th>\n",
       "      <td>1184.60</td>\n",
       "      <td>1191.76</td>\n",
       "      <td>1177.14</td>\n",
       "      <td>1184.42</td>\n",
       "      <td>1184.42</td>\n",
       "      <td>1.985738e+09</td>\n",
       "    </tr>\n",
       "    <tr>\n",
       "      <th>50%</th>\n",
       "      <td>1434.52</td>\n",
       "      <td>1443.68</td>\n",
       "      <td>1425.54</td>\n",
       "      <td>1434.43</td>\n",
       "      <td>1434.43</td>\n",
       "      <td>3.408845e+09</td>\n",
       "    </tr>\n",
       "    <tr>\n",
       "      <th>75%</th>\n",
       "      <td>2390.74</td>\n",
       "      <td>2395.65</td>\n",
       "      <td>2380.30</td>\n",
       "      <td>2389.33</td>\n",
       "      <td>2389.33</td>\n",
       "      <td>4.159688e+09</td>\n",
       "    </tr>\n",
       "    <tr>\n",
       "      <th>max</th>\n",
       "      <td>4804.51</td>\n",
       "      <td>4818.62</td>\n",
       "      <td>4780.04</td>\n",
       "      <td>4796.56</td>\n",
       "      <td>4796.56</td>\n",
       "      <td>1.145623e+10</td>\n",
       "    </tr>\n",
       "  </tbody>\n",
       "</table>\n",
       "</div>"
      ],
      "text/plain": [
       "       Apertura   Máximo   Mínimo   Cierre  Cierre Ajustado       Volumen\n",
       "count   5822.00  5822.00  5822.00  5822.00          5822.00  5.822000e+03\n",
       "mean    1886.49  1897.78  1874.26  1886.71          1886.71  3.302644e+09\n",
       "std      976.76   981.89   971.19   976.89           976.89  1.522890e+09\n",
       "min      679.28   695.27   666.79   676.53           676.53  3.560700e+08\n",
       "25%     1184.60  1191.76  1177.14  1184.42          1184.42  1.985738e+09\n",
       "50%     1434.52  1443.68  1425.54  1434.43          1434.43  3.408845e+09\n",
       "75%     2390.74  2395.65  2380.30  2389.33          2389.33  4.159688e+09\n",
       "max     4804.51  4818.62  4780.04  4796.56          4796.56  1.145623e+10"
      ]
     },
     "execution_count": 73,
     "metadata": {},
     "output_type": "execute_result"
    }
   ],
   "source": [
    "df_sp500.describe().round(2)"
   ]
  },
  {
   "cell_type": "markdown",
   "metadata": {},
   "source": [
    "Esta función nos mostrará la cantidad de registros, la media, la desviación estándar, los valores mínimos y máximos y los cuartiles de cada columna del DataFrame."
   ]
  },
  {
   "cell_type": "code",
   "execution_count": null,
   "metadata": {},
   "outputs": [],
   "source": []
  }
 ],
 "metadata": {
  "kernelspec": {
   "display_name": "Python 3.11.2 ('entornov': venv)",
   "language": "python",
   "name": "python3"
  },
  "language_info": {
   "codemirror_mode": {
    "name": "ipython",
    "version": 3
   },
   "file_extension": ".py",
   "mimetype": "text/x-python",
   "name": "python",
   "nbconvert_exporter": "python",
   "pygments_lexer": "ipython3",
   "version": "3.11.2"
  },
  "orig_nbformat": 4,
  "vscode": {
   "interpreter": {
    "hash": "8d154297e9962af0083c4b84e67c9eb510526fd2aadbfd6d5b8fababc5e77c23"
   }
  }
 },
 "nbformat": 4,
 "nbformat_minor": 2
}
